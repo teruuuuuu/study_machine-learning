{
 "cells": [
  {
   "cell_type": "code",
   "execution_count": 1,
   "metadata": {
    "collapsed": false
   },
   "outputs": [
    {
     "name": "stderr",
     "output_type": "stream",
     "text": [
      "/Users/arimuraterutoshi/Library/Enthought/Canopy_64bit/User/lib/python2.7/site-packages/pandas/computation/__init__.py:19: UserWarning: The installed version of numexpr 2.4.4 is not supported in pandas and will be not be used\n",
      "\n",
      "  UserWarning)\n"
     ]
    }
   ],
   "source": [
    "import numpy as np\n",
    "import pandas as pd\n",
    "from pandas import Series, DataFrame\n",
    "\n",
    "from numpy.random import multivariate_normal"
   ]
  },
  {
   "cell_type": "code",
   "execution_count": 3,
   "metadata": {
    "collapsed": false
   },
   "outputs": [],
   "source": [
    "%matplotlib inline\n",
    "import matplotlib.pyplot as plt"
   ]
  },
  {
   "cell_type": "code",
   "execution_count": 4,
   "metadata": {
    "collapsed": true
   },
   "outputs": [],
   "source": [
    "#------------#\n",
    "# Parameters #\n",
    "#------------#\n",
    "\n",
    "N1 = 20         # クラス t=+1 のデータ数\n",
    "Mu1 = [15,10]   # クラス t=+1 の中心座標\n",
    "\n",
    "N2 = 30         # クラス t=-1 のデータ数\n",
    "Mu2 = [0,0]     # クラス t=-1 の中心座標\n",
    "\n",
    "Variances = [15,30] # 両クラス共通の分散（2種類の分散で計算を実施）"
   ]
  },
  {
   "cell_type": "code",
   "execution_count": 5,
   "metadata": {
    "collapsed": true
   },
   "outputs": [],
   "source": [
    "# データセット {x_n,y_n,type_n} を用意\n",
    "def prepare_dataset(variance):\n",
    "    cov1 = np.array([[variance,0],[0,variance]])\n",
    "    cov2 = np.array([[variance,0],[0,variance]])\n",
    "\n",
    "    df1 = DataFrame(multivariate_normal(Mu1,cov1,N1),columns=['x','y'])\n",
    "    df1['type'] = 1\n",
    "    df2 = DataFrame(multivariate_normal(Mu2,cov2,N2),columns=['x','y'])\n",
    "    df2['type'] = -1 \n",
    "    df = pd.concat([df1,df2],ignore_index=True)\n",
    "    df = df.reindex(np.random.permutation(df.index)).reset_index(drop=True)\n",
    "    return df"
   ]
  },
  {
   "cell_type": "code",
   "execution_count": 6,
   "metadata": {
    "collapsed": true
   },
   "outputs": [],
   "source": [
    "# Perceptronのアルゴリズム（確率的勾配降下法）を実行\n",
    "def run_simulation(variance, data_graph, param_graph):\n",
    "    train_set = prepare_dataset(variance)\n",
    "    train_set1 = train_set[train_set['type']==1]\n",
    "    train_set2 = train_set[train_set['type']==-1]\n",
    "    ymin, ymax = train_set.y.min()-5, train_set.y.max()+10\n",
    "    xmin, xmax = train_set.x.min()-5, train_set.x.max()+10\n",
    "    data_graph.set_ylim([ymin-1, ymax+1])\n",
    "    data_graph.set_xlim([xmin-1, xmax+1])\n",
    "    data_graph.scatter(train_set1.x, train_set1.y, marker='o')\n",
    "    data_graph.scatter(train_set2.x, train_set2.y, marker='x')\n",
    "\n",
    "    # パラメータの初期値とbias項の設定\n",
    "    w0 = w1 = w2 = 0.0\n",
    "    bias = 0.5 * (train_set.x.mean() + train_set.y.mean())\n",
    "\n",
    "    # Iterationを30回実施\n",
    "    paramhist = DataFrame([[w0,w1,w2]], columns=['w0','w1','w2'])\n",
    "    for i in range(30):\n",
    "        for index, point in train_set.iterrows():\n",
    "            x, y, type = point.x, point.y, point.type\n",
    "            if type * (w0*bias + w1*x + w2*y) <= 0:\n",
    "                w0 += type * 1 \n",
    "                w1 += type * x\n",
    "                w2 += type * y\n",
    "        paramhist = paramhist.append(\n",
    "                        Series([w0,w1,w2], ['w0','w1','w2']),\n",
    "                        ignore_index=True)\n",
    "    # 判定誤差の計算\n",
    "    err = 0\n",
    "    for index, point in train_set.iterrows():\n",
    "        x, y, type = point.x, point.y, point.type\n",
    "        if type * (w0*bias + w1*x + w2*y) <= 0:\n",
    "            err += 1\n",
    "    err_rate = err * 100 / len(train_set)\n",
    "\n",
    "    # 結果の表示\n",
    "    linex = np.arange(xmin-5, xmax+5)\n",
    "    liney = - linex * w1 / w2 - bias * w0 / w2\n",
    "    label = \"ERR %.2f%%\" % err_rate\n",
    "    data_graph.plot(linex,liney,label=label,color='red')\n",
    "    data_graph.legend(loc=1)\n",
    "    paramhist.plot(ax=param_graph)\n",
    "    param_graph.legend(loc=1)"
   ]
  },
  {
   "cell_type": "code",
   "execution_count": null,
   "metadata": {
    "collapsed": false
   },
   "outputs": [],
   "source": [
    "fig = plt.figure(figsize=(600, 400))\n",
    "# 2種類の分散で実行\n",
    "for c, variance in enumerate(Variances):\n",
    "    subplots1 = fig.add_subplot(2,2,c+1)\n",
    "    subplots2 = fig.add_subplot(2,2,c+2+1)\n",
    "    run_simulation(variance, subplots1, subplots2)\n",
    "fig.show()"
   ]
  },
  {
   "cell_type": "code",
   "execution_count": null,
   "metadata": {
    "collapsed": true
   },
   "outputs": [],
   "source": []
  }
 ],
 "metadata": {
  "kernelspec": {
   "display_name": "Python 2",
   "language": "python",
   "name": "python2"
  },
  "language_info": {
   "codemirror_mode": {
    "name": "ipython",
    "version": 2
   },
   "file_extension": ".py",
   "mimetype": "text/x-python",
   "name": "python",
   "nbconvert_exporter": "python",
   "pygments_lexer": "ipython2",
   "version": "2.7.11"
  }
 },
 "nbformat": 4,
 "nbformat_minor": 0
}
